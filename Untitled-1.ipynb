{
 "cells": [
  {
   "cell_type": "code",
   "execution_count": 3,
   "metadata": {},
   "outputs": [
    {
     "name": "stdout",
     "output_type": "stream",
     "text": [
      "pygame 2.4.0 (SDL 2.26.4, Python 3.11.1)\n",
      "Hello from the pygame community. https://www.pygame.org/contribute.html\n"
     ]
    }
   ],
   "source": [
    "import pygame"
   ]
  },
  {
   "cell_type": "code",
   "execution_count": 5,
   "metadata": {},
   "outputs": [],
   "source": [
    "import time"
   ]
  },
  {
   "cell_type": "code",
   "execution_count": 2,
   "metadata": {},
   "outputs": [
    {
     "ename": "NameError",
     "evalue": "name 'pygame' is not defined",
     "output_type": "error",
     "traceback": [
      "\u001b[1;31m---------------------------------------------------------------------------\u001b[0m",
      "\u001b[1;31mNameError\u001b[0m                                 Traceback (most recent call last)",
      "Cell \u001b[1;32mIn[2], line 7\u001b[0m\n\u001b[0;32m      3\u001b[0m cor_fundo \u001b[39m=\u001b[39m (\u001b[39m0\u001b[39m, \u001b[39m0\u001b[39m, \u001b[39m0\u001b[39m)\n\u001b[0;32m      4\u001b[0m cor_texto \u001b[39m=\u001b[39m (\u001b[39m255\u001b[39m, \u001b[39m255\u001b[39m, \u001b[39m255\u001b[39m)\n\u001b[1;32m----> 7\u001b[0m janela \u001b[39m=\u001b[39m pygame\u001b[39m.\u001b[39mdisplay\u001b[39m.\u001b[39mset_mode((largura, altura))\n\u001b[0;32m      8\u001b[0m pygame\u001b[39m.\u001b[39mdisplay\u001b[39m.\u001b[39mset_caption(\u001b[39m\"\u001b[39m\u001b[39mRelógio Digital\u001b[39m\u001b[39m\"\u001b[39m)\n\u001b[0;32m     11\u001b[0m fonte \u001b[39m=\u001b[39m pygame\u001b[39m.\u001b[39mfont\u001b[39m.\u001b[39mFont(\u001b[39mNone\u001b[39;00m, tamanho_fonte)\n",
      "\u001b[1;31mNameError\u001b[0m: name 'pygame' is not defined"
     ]
    }
   ],
   "source": [
    "\n",
    "largura, altura = 400, 300\n",
    "tamanho_fonte = 40\n",
    "cor_fundo = (0, 0, 0)\n",
    "cor_texto = (255, 255, 255)\n",
    "\n",
    "\n",
    "janela = pygame.display.set_mode((largura, altura))\n",
    "pygame.display.set_caption(\"Relógio Digital\")\n",
    "\n",
    "\n",
    "fonte = pygame.font.Font(None, tamanho_fonte)\n",
    "\n",
    "\n",
    "def mostrar_relogio():\n",
    "    while True:\n",
    "\n",
    "        for event in pygame.event.get():\n",
    "            if event.type == pygame.QUIT:\n",
    "                pygame.quit()\n",
    "                return\n",
    "\n",
    "        data_hora_atual = time.strftime(\"%d/%m/%Y %H:%M:%S\")\n",
    "\n",
    "        janela.fill(cor_fundo)\n",
    "\n",
    "    \n",
    "        texto_relogio = fonte.render(data_hora_atual, True, cor_texto)\n",
    "        largura_texto = texto_relogio.get_width()\n",
    "        altura_texto = texto_relogio.get_height()\n",
    "\n",
    "        posicao_x = (largura - largura_texto) // 2\n",
    "        posicao_y = (altura - altura_texto) // 2\n",
    "        janela.blit(texto_relogio, (posicao_x, posicao_y))\n",
    "\n",
    "    \n",
    "        pygame.display.update()\n",
    "\n",
    "        time.sleep(1)\n",
    "\n",
    "mostrar_relogio()\n"
   ]
  }
 ],
 "metadata": {
  "kernelspec": {
   "display_name": "Python 3",
   "language": "python",
   "name": "python3"
  },
  "language_info": {
   "codemirror_mode": {
    "name": "ipython",
    "version": 3
   },
   "file_extension": ".py",
   "mimetype": "text/x-python",
   "name": "python",
   "nbconvert_exporter": "python",
   "pygments_lexer": "ipython3",
   "version": "3.11.1"
  },
  "orig_nbformat": 4
 },
 "nbformat": 4,
 "nbformat_minor": 2
}
